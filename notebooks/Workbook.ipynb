{
 "cells": [
  {
   "cell_type": "markdown",
   "id": "d84f52e8-5217-46c2-b2a8-d021732aa2ca",
   "metadata": {},
   "source": [
    "## Selwyn Coding Supervision"
   ]
  },
  {
   "cell_type": "markdown",
   "id": "26846569-b91a-48f5-8e38-92dc8cbc3fd4",
   "metadata": {},
   "source": [
    "# Python array manipulation for astronomical processing"
   ]
  },
  {
   "cell_type": "markdown",
   "id": "8c8e216f-fb3f-4a8b-be65-0326dce6d368",
   "metadata": {},
   "source": [
    "## Introduction"
   ]
  },
  {
   "cell_type": "markdown",
   "id": "c1321d91-c14d-4c74-95fe-7b65b28a86e5",
   "metadata": {},
   "source": [
    "Welcome to this supervision on array manipulation for scientific processing with Python. For those of you unfamiliar with Python, you are currently reading a `notebook`. Notebooks allow you to code interactively. In notebooks, code is embedded within `cells`. To run the code within any particular cell, you must execute the cell. You can execute a cell by clicking on it, holding down the `shift` key, and pressing `enter`. Once you execute a cell, you the notebook will automatically move to the next cell.\n",
    "\n",
    "Before we can begin, we must set up our notebook. Please execute the setup cells below with `shift+enter` until you reach Section 1 of the notebook."
   ]
  },
  {
   "cell_type": "markdown",
   "id": "1c00091d-cec7-4a89-bedf-d2a36c1ccce2",
   "metadata": {},
   "source": [
    "## Begin Setup"
   ]
  },
  {
   "cell_type": "markdown",
   "id": "fed8458e-7f04-4353-8168-e79293508d83",
   "metadata": {},
   "source": [
    "### Import standard functions"
   ]
  },
  {
   "cell_type": "code",
   "execution_count": null,
   "id": "9f2882a8-f7f8-491a-a893-c351be974287",
   "metadata": {},
   "outputs": [],
   "source": [
    "#import standard functions\n",
    "import numpy as np\n",
    "from matplotlib import pyplot as plt\n",
    "import scipy.stats as stats\n",
    "import sys\n",
    "import os\n",
    "import imageio.v3 as iio"
   ]
  },
  {
   "cell_type": "markdown",
   "id": "59e13652-9162-423d-85f1-6bd99f27dec6",
   "metadata": {},
   "source": [
    "### Import bespoke functions and data"
   ]
  },
  {
   "cell_type": "code",
   "execution_count": null,
   "id": "0560759e-e19b-407f-b121-e9d1767b7415",
   "metadata": {},
   "outputs": [],
   "source": [
    "#import bespoke functions\n",
    "sys.path.insert(1,'../data/') #import our git cloned functions repo into path\n",
    "\n",
    "from data import array_1\n",
    "from data import array_2\n",
    "from data import array_3\n",
    "from data import array_4\n",
    "from data import array_5\n",
    "\n",
    "array_6 = iio.imread('../data/array_6.jpg')\n",
    "array_7 = iio.imread('../data/array_7.jpg')\n",
    "array_8 = np.load('../data/data_2.npy')"
   ]
  },
  {
   "cell_type": "markdown",
   "id": "49a26245-9a23-41bc-9df1-79077df62ff1",
   "metadata": {},
   "source": [
    "## End Setup"
   ]
  },
  {
   "cell_type": "markdown",
   "id": "479f5727-e62e-4387-8371-6ef4a36c5aa9",
   "metadata": {},
   "source": [
    "## Section 1: Simple arrays"
   ]
  },
  {
   "cell_type": "markdown",
   "id": "027bf903-0022-45ac-be21-6cd3deb11194",
   "metadata": {},
   "source": [
    "When programming with Python, scientists often use `arrays`. Put simply, an array is a list of variables, for example, a list of numbers, which can be manipulated. Lots of scientific data, including astronomical data, is stored as arrays and then processed. \n",
    "\n",
    "In this supervision we will learn about arrays and learn how to manipulate them to perform scientific analysis. First, we need to study an array. Luckily, we have `imported` a couple of arrays into this notebook in the cells above. So to start with, let's take a look at the contents of our imported array called `array_1`."
   ]
  },
  {
   "cell_type": "markdown",
   "id": "aee85fcb-c876-4136-a0a3-280e3ad8ebf1",
   "metadata": {},
   "source": [
    "### 1.1: Printing arrays"
   ]
  },
  {
   "cell_type": "markdown",
   "id": "0e28685b-da0a-4bd2-a8c0-2763ee801a93",
   "metadata": {},
   "source": [
    "To study `array_1`, we will use the `print() function`. A `function` is a predefined piece of code with a specific purpose -- in this case, for printing (i.e. displaying) the values stored in a `variable`, for example an `array`. As a first step, type the following code in the cell below and then execute the cell with `shift+enter` to see how the print function works:\n",
    "\n",
    "`print?`"
   ]
  },
  {
   "cell_type": "code",
   "execution_count": null,
   "id": "ce7ea756-b87e-4fdb-b3ab-a8120608cd8a",
   "metadata": {},
   "outputs": [],
   "source": []
  },
  {
   "cell_type": "markdown",
   "id": "b4c59ff4-a286-4861-bc0b-1951d5c8e403",
   "metadata": {},
   "source": [
    "Now, in the cell below, use the `print()` function to study the contents of our imported array called `array_1`. To do this, type the following code in the cell below, and then execute the cell by using `shift+enter`:\n",
    "\n",
    "`print(array_1)`"
   ]
  },
  {
   "cell_type": "code",
   "execution_count": null,
   "id": "4fff0234-a125-4bdb-90fe-eb46d15c7881",
   "metadata": {},
   "outputs": [],
   "source": []
  },
  {
   "cell_type": "markdown",
   "id": "7275040b-d581-4ff9-9675-83791a19f428",
   "metadata": {},
   "source": [
    "### 1.2: Arrays and arithmetic"
   ]
  },
  {
   "cell_type": "markdown",
   "id": "7402df09-4e45-4d91-884e-b14081530e91",
   "metadata": {},
   "source": [
    "As you can see, `array_1` contains the numbers zero to nine. Arrays are incredibly useful for holding all sorts of scientific data and these arrays can be manipulated in order to process this data. Let's try manipulating `array_1` in the simplest way possible. First, try adding ten to the array, and printing the output.\n",
    "\n",
    "To add ten to the array is easy. You can just type:\n",
    "\n",
    "`array_1+10`\n",
    "\n",
    "But to print the result of this code, you should enclose it within the `print()` function. Therefore your code should read:\n",
    "\n",
    "`print(array_1+10)`\n",
    "\n",
    "Try typing this in the cell below and executing it."
   ]
  },
  {
   "cell_type": "code",
   "execution_count": null,
   "id": "e5d92e8c-ed2e-42a0-9507-ed1d2b7f1533",
   "metadata": {},
   "outputs": [],
   "source": []
  },
  {
   "cell_type": "markdown",
   "id": "1e8825bc-d793-4e24-95dc-d9cc0355a75a",
   "metadata": {},
   "source": [
    "As you can see, every number, or element, in the array, has had ten added to it. It is important to note that we have not changed the contents of `array_1` here. It still contains the numbers zero to nine, as you can see by printing the array again:"
   ]
  },
  {
   "cell_type": "code",
   "execution_count": null,
   "id": "062b1746-26e1-463a-8828-d8d83ff79c7c",
   "metadata": {},
   "outputs": [],
   "source": [
    "print(array_1)"
   ]
  },
  {
   "cell_type": "markdown",
   "id": "e1ec1c65-043c-4f39-becf-3cb8adedd375",
   "metadata": {},
   "source": [
    "You've just learned how to add ten to every number in `array_1` using the arithmetic operator `+`. Now lets try using other arithmetic operators and see what happens. In the three cells below, try printing the results of subtraction, division, and multiplication of the array by using the `-` , `/` , and `*` arithmetic operators respectively."
   ]
  },
  {
   "cell_type": "code",
   "execution_count": null,
   "id": "3c1f3158-23f0-43ff-a3fd-d0d2efe30c46",
   "metadata": {},
   "outputs": [],
   "source": [
    "#Below this comment, write some code which prints the results of subtracting ten from array_1. Then execute the cell.\n",
    "\n"
   ]
  },
  {
   "cell_type": "code",
   "execution_count": null,
   "id": "4a464edf-2c2d-4615-9e8f-1025906f7d52",
   "metadata": {},
   "outputs": [],
   "source": [
    "#Below this comment, write some code which prints the results of dividing array_1 by ten. Then execute the cell.\n",
    "\n"
   ]
  },
  {
   "cell_type": "code",
   "execution_count": null,
   "id": "4cde5087-a781-41cc-b234-b268abe4f6f6",
   "metadata": {},
   "outputs": [],
   "source": [
    "#Below this comment, write some code which prints the results of multiplying array_1 by ten. Then execute the cell.\n",
    "\n"
   ]
  },
  {
   "cell_type": "markdown",
   "id": "ebe354c2-740c-47f0-b220-334ce5c51487",
   "metadata": {},
   "source": [
    "Remember, you have not actually changed `array_1` itself here. Try printing `array_1` in the cell below again to check:"
   ]
  },
  {
   "cell_type": "code",
   "execution_count": null,
   "id": "c8d7313f-c89b-415a-a310-c747884f4b3b",
   "metadata": {},
   "outputs": [],
   "source": []
  },
  {
   "cell_type": "markdown",
   "id": "47e4fbf5-c8c4-425e-aad6-4261a9506b69",
   "metadata": {},
   "source": [
    "### 1.3: Creating arrays"
   ]
  },
  {
   "cell_type": "markdown",
   "id": "edad7cde-2091-4b5e-a5b0-93a7c674d7fd",
   "metadata": {},
   "source": [
    "As you have seen, `array_1` is a sequence of ten numbers going from zero to nine. You can create an array like this yourself in a few ways. Here, we will use another function. Specifically, we will use the `np.arange()` function to create an array called `my_array` which will be identical to `array_1`.\n",
    "\n",
    "First, just like when you looked at the `print()` function, take a look at the `np.arange()` function to learn how it works. Do this in the cell below by running:\n",
    "\n",
    "`np.arange?`"
   ]
  },
  {
   "cell_type": "code",
   "execution_count": null,
   "id": "fbeb6f27-1047-4eed-a3d7-1cda8b0e9d64",
   "metadata": {
    "scrolled": true
   },
   "outputs": [],
   "source": []
  },
  {
   "cell_type": "markdown",
   "id": "4e731b45-be0d-440b-99bd-0ff73729d61f",
   "metadata": {},
   "source": [
    "If you check the examples above closely, you should be able to work out that you can create an array of ten numbers running from zero to nine with the following code:\n",
    "\n",
    "`np.arange(10)`\n",
    "\n",
    "We want to store this array to a `variable` which we will call `my_array`. To do this, type the following code in the cell below and then execute the cell:\n",
    "\n",
    "`my_array = np.arange(10)`"
   ]
  },
  {
   "cell_type": "code",
   "execution_count": null,
   "id": "a3d1ad36-d284-4102-ab61-322b4cbea61b",
   "metadata": {},
   "outputs": [],
   "source": []
  },
  {
   "cell_type": "markdown",
   "id": "21f69cb7-0b5f-4cc4-8fb8-4553e352c59a",
   "metadata": {},
   "source": [
    "Now you can take a look at your new array called `my_array` by printing it with the `print()` function. In the cell below, print `my_array`."
   ]
  },
  {
   "cell_type": "code",
   "execution_count": null,
   "id": "4736b74e-782f-484b-838b-5c4cfab90738",
   "metadata": {},
   "outputs": [],
   "source": []
  },
  {
   "cell_type": "markdown",
   "id": "fc7811aa-9c38-4495-a11b-22d0f76aa2fa",
   "metadata": {},
   "source": [
    "Finally, check you've done things right and that `my_array` is identical to `array_1` by executing the code in the cell below."
   ]
  },
  {
   "cell_type": "code",
   "execution_count": null,
   "id": "b954bb40-a454-490b-8992-57f5041d16be",
   "metadata": {},
   "outputs": [],
   "source": [
    "if (my_array==array_1).all:\n",
    "    print('Congratulations! Your array called my_array is identical to array_1.')\n",
    "else:\n",
    "    print('Error! my_array and array_1 are not the same.')"
   ]
  },
  {
   "cell_type": "markdown",
   "id": "8988de8d-45a5-41d4-afbe-280f7bf06d4d",
   "metadata": {},
   "source": [
    "## Section 2: Array Indexing"
   ]
  },
  {
   "cell_type": "markdown",
   "id": "e114c35d-f5b5-47a8-baa2-9ccc928d4732",
   "metadata": {},
   "source": [
    "Now we've introduced arrays, let's look more closely at the `elements` inside them."
   ]
  },
  {
   "cell_type": "markdown",
   "id": "a6d9b6e5-8ac2-47e8-ac14-01c46c802f4f",
   "metadata": {},
   "source": [
    "### 2.1: Accessing array elements"
   ]
  },
  {
   "cell_type": "markdown",
   "id": "bc0059bc-41d5-48dc-822c-dcf93a54d6b8",
   "metadata": {},
   "source": [
    "You can access any element in an array if you know its `index`. Essentially, the index is the location of the element within the array. To access a given element in an array, you must use the code: \n",
    "\n",
    "`array_1[number]` \n",
    "\n",
    "where `number` is a numerical value corresponding to the index of the array you wish to access. For example, to access the `first element` of `array_1` and store it as a `variable`, execute the code in the cell below:"
   ]
  },
  {
   "cell_type": "code",
   "execution_count": null,
   "id": "e970f131-3807-4a99-9a8a-9179282edbf1",
   "metadata": {},
   "outputs": [],
   "source": [
    "first_element = array_1[0]\n",
    "print(first_element)"
   ]
  },
  {
   "cell_type": "markdown",
   "id": "5b3cdf80-b908-483c-9238-1a7c6c5eefa4",
   "metadata": {},
   "source": [
    "Notice that to access the `first element` in `array_1`, we used the `zeroth index`, by using the code:\n",
    "\n",
    "`array_1[0]`\n",
    "\n",
    "This is because python arrays are `zero-indexed`. In this zero-indexed system, `array_1[0]` gives you the first element of the array. Then `array_1[1]` gives you the second element in the array, `array_1[2]` gives you the third element, and so on. "
   ]
  },
  {
   "cell_type": "markdown",
   "id": "1fcfe915-8425-4e49-a2fc-bc0d5cdcae54",
   "metadata": {},
   "source": [
    "Following the example above, try to access the second, fifth, and tenth elements of `array_1` in the three cells below, and store them as variables called `second_element`, `fifth_element` and `tenth_element`. Print the variables in each case."
   ]
  },
  {
   "cell_type": "code",
   "execution_count": null,
   "id": "436ab171-e13b-43b7-8ac1-9ea21c974999",
   "metadata": {},
   "outputs": [],
   "source": [
    "#Below this comment, write some code to store the second element of array_1 as a variable called second_element, and print this variable. Then execute the cell.\n",
    "\n"
   ]
  },
  {
   "cell_type": "code",
   "execution_count": null,
   "id": "1b9626ac-ff88-4a53-9978-86dbf5241917",
   "metadata": {},
   "outputs": [],
   "source": [
    "#Below this comment, write some code to store the fifth element of array_1 as a variable called fifth_element, and print this variable. Then execute the cell.\n",
    "\n"
   ]
  },
  {
   "cell_type": "code",
   "execution_count": null,
   "id": "d440cc2b-aee2-459c-8517-62e0e3c1a9e1",
   "metadata": {},
   "outputs": [],
   "source": [
    "#Below this comment, write some code to store the tenth element of array_1 as a variable called tenth_element, and print this variable. Then execute the cell.\n",
    "\n"
   ]
  },
  {
   "cell_type": "markdown",
   "id": "533a344f-6cf0-49bb-9f95-c54cc3268e50",
   "metadata": {},
   "source": [
    "Now in the cell below, try accessing the eleventh element in `array_1` in the same way:"
   ]
  },
  {
   "cell_type": "code",
   "execution_count": null,
   "id": "e1800d7f-c707-4c17-b145-aad38226a405",
   "metadata": {},
   "outputs": [],
   "source": []
  },
  {
   "cell_type": "markdown",
   "id": "747ec0d4-b0b0-45f2-906a-f25d969906f5",
   "metadata": {},
   "source": [
    "Notice that you `get an error`. This is because `array_1` is only ten elements long. Therefore the eleventh element doesn't exist and cannot be accessed."
   ]
  },
  {
   "cell_type": "markdown",
   "id": "e02f8298-0744-4c49-b6e3-1512221031a5",
   "metadata": {},
   "source": [
    "### 2.2: Strings and indexes"
   ]
  },
  {
   "cell_type": "markdown",
   "id": "30086896-2408-4b65-b209-572b0f5384e6",
   "metadata": {},
   "source": [
    "It is important to note that indexing can be used for other purposes as well. Take, for example, the word `INDEXING`. In Python, this word can be represented as a `string`:"
   ]
  },
  {
   "cell_type": "code",
   "execution_count": null,
   "id": "17ef93c6-4f7c-41d1-863f-203241d5ee91",
   "metadata": {},
   "outputs": [],
   "source": [
    "string_1 = 'INDEXING'\n",
    "print(string_1)"
   ]
  },
  {
   "cell_type": "markdown",
   "id": "4cfbc94e-b1a9-4269-8c6a-bda1e1a75e08",
   "metadata": {},
   "source": [
    "You can access the individual elements, in this case letters, of the string individually, just as you were able to access the numbers in `array_1` above. Try accessing the first letter of `string_1` by executing the cell below:"
   ]
  },
  {
   "cell_type": "code",
   "execution_count": null,
   "id": "76758cf1-1a4e-436e-9ad5-23761e35ba31",
   "metadata": {},
   "outputs": [],
   "source": [
    "first_letter = string_1[0]\n",
    "print(first_letter)"
   ]
  },
  {
   "cell_type": "markdown",
   "id": "a9641c60-0ca1-470b-8d72-475165a1a345",
   "metadata": {},
   "source": [
    "Now, try accessing the fifth and eigth letters of `string_1` in the two cells below in the same way."
   ]
  },
  {
   "cell_type": "code",
   "execution_count": null,
   "id": "51d6318e-0768-4a29-8823-53ebc446b594",
   "metadata": {},
   "outputs": [],
   "source": [
    "#Below this comment, write some code to store the fifth letter of string_1 as a variable called fifth_letter, and print this variable. Then execute the cell.\n",
    "\n"
   ]
  },
  {
   "cell_type": "code",
   "execution_count": null,
   "id": "8ccbfeb9-5d00-4511-86be-af3153a646bb",
   "metadata": {},
   "outputs": [],
   "source": [
    "#Below this comment, write some code to store the eigth letter of string_1 as a variable called eighth_letter, and print this variable. Then execute the cell.\n",
    "\n"
   ]
  },
  {
   "cell_type": "markdown",
   "id": "528da6cf-dc30-41da-9f1b-ec645aad37a0",
   "metadata": {},
   "source": [
    "### 2.3: Editing arrays"
   ]
  },
  {
   "cell_type": "markdown",
   "id": "33f2f1aa-0cc1-4f2c-ad4b-afbf33df6aae",
   "metadata": {},
   "source": [
    "Not only can you access individual elements in an array or a string using indexes, but `you can also edit them`. Take another look at `array_1` in the cell below:"
   ]
  },
  {
   "cell_type": "code",
   "execution_count": null,
   "id": "dbd64cb3-763d-4b73-b7f3-8e6d2746f8d1",
   "metadata": {},
   "outputs": [],
   "source": [
    "print(array_1)"
   ]
  },
  {
   "cell_type": "markdown",
   "id": "8779c8bc-38fd-4720-94ca-9db8486c055d",
   "metadata": {},
   "source": [
    "We can edit the first element in `array_1` using its index. Let's change the first element of `array_1` to from `0` to `100` in the cell below:"
   ]
  },
  {
   "cell_type": "code",
   "execution_count": null,
   "id": "13ddeb51-bb38-4404-9377-c39f1b319697",
   "metadata": {},
   "outputs": [],
   "source": [
    "array_1[0]=100\n",
    "print(array_1)"
   ]
  },
  {
   "cell_type": "markdown",
   "id": "68c68d88-241f-4cca-ab69-961dcc408e39",
   "metadata": {},
   "source": [
    "Now following the example above, have a go changing the second element of `array_1` to `1234`, the fourth element to `-8`, and the ninth element to `15` in the three cells below:"
   ]
  },
  {
   "cell_type": "code",
   "execution_count": null,
   "id": "2ffb20c1-bb8e-4c13-a074-52b13e891ea4",
   "metadata": {},
   "outputs": [],
   "source": [
    "#Below this comment, write some code to change the second element of array_1 to 1234, and print array_1. Then execute the cell.\n",
    "\n"
   ]
  },
  {
   "cell_type": "code",
   "execution_count": null,
   "id": "137aa2a1-86e8-4ee8-a40b-59c960c73568",
   "metadata": {},
   "outputs": [],
   "source": [
    "#Below this comment, write some code to change the fourth element of array_1 to -8, and print array_1. Then execute the cell.\n",
    "\n"
   ]
  },
  {
   "cell_type": "code",
   "execution_count": null,
   "id": "69bb8830-7929-4563-a222-33a9a07a3149",
   "metadata": {},
   "outputs": [],
   "source": [
    "#Below this comment, write some code to change the ninth element of array_1 to 15, and print array_1. Then execute the cell.\n",
    "\n"
   ]
  },
  {
   "cell_type": "markdown",
   "id": "6d7e2297-85c2-4111-b654-18b02902e316",
   "metadata": {},
   "source": [
    "Manipulating arrays in this way will become handy later when we start analysing some astronomical data."
   ]
  },
  {
   "cell_type": "markdown",
   "id": "970d86e6-3dc3-44fd-bc8a-df2b0a138bf8",
   "metadata": {},
   "source": [
    "## Section 3: More complex arrays"
   ]
  },
  {
   "cell_type": "markdown",
   "id": "8051594b-8bd4-4eef-a2b1-56aa3b54c59e",
   "metadata": {},
   "source": [
    "In Sections 1 and 2, you were working with `one-dimensional arrays`. A one-dimensional array is basically just a list containing several elements. But arrays can have more than one dimension. A `two-dimensional array`, for example, can be represented as a grid of numbers. To see an example of a two-dimensional array, execute the cell below which prints the contents of another array we imported earlier, called `array_2`:"
   ]
  },
  {
   "cell_type": "code",
   "execution_count": null,
   "id": "413c2008-c0d4-4a9e-ac26-a8a47d1ae8d9",
   "metadata": {},
   "outputs": [],
   "source": [
    "print(array_2)"
   ]
  },
  {
   "cell_type": "markdown",
   "id": "0f2554a8-0ba0-4a11-a89a-582af17a8622",
   "metadata": {},
   "source": [
    "As you can see, `array_2` consists of the numbers zero to twenty-four, arranged in a five-by-five grid, with `five rows` and `five columns`. You can confirm the shape of this array by pasting the following code into the cell below and executing it:\n",
    "\n",
    "`print(array_2.shape)`"
   ]
  },
  {
   "cell_type": "code",
   "execution_count": null,
   "id": "605cf443-f37d-4f00-baa2-1b61c8adb32f",
   "metadata": {},
   "outputs": [],
   "source": []
  },
  {
   "cell_type": "markdown",
   "id": "f2d6ca57-7144-4656-8462-3c0ad0fa2e3e",
   "metadata": {},
   "source": [
    "### 3.1: Two-dimensional array arithmetic"
   ]
  },
  {
   "cell_type": "markdown",
   "id": "c3bd138b-e77e-435c-b689-4da3c1324982",
   "metadata": {},
   "source": [
    "Two-dimensional arrays can be manipulated just like one-dimensional arrays can. For example, try adding `10` to every element in `array_2` using the `+` arithmetic operator. If you need help, look back to how you did this for `array_1` in Section 1:"
   ]
  },
  {
   "cell_type": "code",
   "execution_count": null,
   "id": "ed2d74e8-279f-4078-9b90-9fa52e013e56",
   "metadata": {},
   "outputs": [],
   "source": [
    "#Below this comment, write some code which prints the result of adding ten to array_2. Then execute the cell.\n",
    "\n"
   ]
  },
  {
   "cell_type": "markdown",
   "id": "2fda059c-6234-4d38-be35-53934e59f394",
   "metadata": {},
   "source": [
    "Now in the three cells below, try using arithmetic operators `-`, `/` and `*` to subtract, divide and multiply `array_2` by `10` as you did for `array_1` in Section 1 and see what happens:"
   ]
  },
  {
   "cell_type": "code",
   "execution_count": null,
   "id": "e10741b7-9174-40dc-a01d-e56126b8d301",
   "metadata": {},
   "outputs": [],
   "source": [
    "#Below this comment, write some code which prints the results of subtracting ten from array_2. Then execute the cell.\n",
    "\n"
   ]
  },
  {
   "cell_type": "code",
   "execution_count": null,
   "id": "a365a030-4925-4d20-94f1-3172a3e44e47",
   "metadata": {},
   "outputs": [],
   "source": [
    "#Below this comment, write some code which prints the results of dividing array_2 by ten. Then execute the cell.\n",
    "\n"
   ]
  },
  {
   "cell_type": "code",
   "execution_count": null,
   "id": "0ab2b9d3-ba70-422a-a013-9630c9bc8dde",
   "metadata": {},
   "outputs": [],
   "source": [
    "#Below this comment, write some code which prints the results of multiplying array_2 by ten. Then execute the cell.\n",
    "\n"
   ]
  },
  {
   "cell_type": "markdown",
   "id": "57710c04-e34e-4f15-a8b2-bca77850683e",
   "metadata": {},
   "source": [
    "### 3.2: Indexing two-dimensional arrays"
   ]
  },
  {
   "cell_type": "markdown",
   "id": "c5d00b23-9907-409c-b42c-969dc2ce514a",
   "metadata": {},
   "source": [
    "Now, how do we access elements in a two-dimensional array? First, take another look at `array_2` in the cell below:"
   ]
  },
  {
   "cell_type": "code",
   "execution_count": null,
   "id": "369ec309-7543-4d39-89cb-4d7d9194146d",
   "metadata": {},
   "outputs": [],
   "source": [
    "print(array_2)"
   ]
  },
  {
   "cell_type": "markdown",
   "id": "baca164c-7b2c-4dbf-ad62-a2146865cc95",
   "metadata": {},
   "source": [
    "Now try accessing the first element of `array_2` in the same way that you did for `array_1` in Section 2 by typing the following code in the cell below:\n",
    "\n",
    "`print(array_2[0])`"
   ]
  },
  {
   "cell_type": "code",
   "execution_count": null,
   "id": "5636258e-15eb-4c98-ae16-4b25e1b46458",
   "metadata": {},
   "outputs": [],
   "source": []
  },
  {
   "cell_type": "markdown",
   "id": "3edb273a-c325-425e-88e1-0610fe5e9960",
   "metadata": {},
   "source": [
    "Notice that this `does not print the first element of array_2`. Instead, you have printed the first `row` of the two-dimensional array. To access an individual element of a two-dimensional array, you need to know both the index of the `row` *and* the index of the `column` that the element lies in. The first element of `array_2`, for example, is `0`. It lies in the `first row` and the `first column`. As you have seen, the first row's index is `0`. As Python is zero-indexed, the first column's index is also `0`. So to access the first element of `array_2`, execute the code in the cell below:"
   ]
  },
  {
   "cell_type": "code",
   "execution_count": null,
   "id": "ed5c7dec-15e3-4f3b-83ea-476e8f33b989",
   "metadata": {},
   "outputs": [],
   "source": [
    "print(array_2[0,0])"
   ]
  },
  {
   "cell_type": "markdown",
   "id": "f4569602-d473-47ed-96f1-8eacf475e2e4",
   "metadata": {},
   "source": [
    "Notice that to access this element, we have used two indexes in the form:\n",
    "\n",
    "`array_2[number_1,number_2]`\n",
    "\n",
    "The `first index`, `number_1`, refers to the `row` that the element belongs to. The `second index`, `number_2`, refers to the `column` that the element belongs to."
   ]
  },
  {
   "cell_type": "markdown",
   "id": "25bdff53-f3ce-42ff-8f10-e0fdaaf38226",
   "metadata": {},
   "source": [
    "Now for another example. Look again at `array_2`."
   ]
  },
  {
   "cell_type": "code",
   "execution_count": null,
   "id": "dec12544-5fb2-4bd2-9b5a-664d2b47cda1",
   "metadata": {},
   "outputs": [],
   "source": [
    "print(array_2)"
   ]
  },
  {
   "cell_type": "markdown",
   "id": "f05036e9-d15e-4ac6-bdb2-7f49c2dd6aab",
   "metadata": {},
   "source": [
    "Where does the number `20` lie in `array_2`? By inspection, you can see that it lies in the `fifth row`, and the `first column`. We can confirm the indices of the row and column of this element using another function: the `np.where()` function:"
   ]
  },
  {
   "cell_type": "code",
   "execution_count": null,
   "id": "a9ef45cd-d1b4-4e45-8bfd-152d63c7c72c",
   "metadata": {},
   "outputs": [],
   "source": [
    "print(np.where(array_2==20))"
   ]
  },
  {
   "cell_type": "markdown",
   "id": "6bc45100-858f-44ef-b98e-2df5e0108279",
   "metadata": {},
   "source": [
    "As expected, the first index is `4`, and the second index is `0`. These indexes correspond to the fifth row and the first column. This is because Python arrays are `zero-indexed`, as discussed in Section 2. \n",
    "\n",
    "Now use these indices and the example above to print the value of the element in the fifth row and first column of `array_2`, and confirm that it is `20`:"
   ]
  },
  {
   "cell_type": "code",
   "execution_count": null,
   "id": "dd8c339c-b0a8-45b7-813e-32aae855b271",
   "metadata": {},
   "outputs": [],
   "source": [
    "#Below this comment, write some code which prints the element in the fifth row and first column of array_2. Then execute the cell.\n",
    "\n"
   ]
  },
  {
   "cell_type": "markdown",
   "id": "b50cc705-787a-454c-bf2a-9cffd036d90a",
   "metadata": {},
   "source": [
    "### 3.3: Editing two-dimensional arrays"
   ]
  },
  {
   "cell_type": "markdown",
   "id": "9e549f7e-a0af-4e99-b50e-d53c20298406",
   "metadata": {},
   "source": [
    "As we did in Section 2, now in the three cells below, let's replace elements in `array_2` with different numbers. You have learned how to access elements in a two-dimensional array. Use this knowledge, along with what you learned in Section 2, to edit the number `11` in `array_2` and replace it with the number `100`. Also replace the number `17` in `array_2` with the number `200`. Finally, replace the number `23` in `array_2` with the number `-5`.\n",
    "\n",
    "Note, you can work out the indices of these values by eye, but try to use the `np.where()` function to find them."
   ]
  },
  {
   "cell_type": "code",
   "execution_count": null,
   "id": "34f17fbf-c65b-4e51-8aed-3369fbc9f105",
   "metadata": {},
   "outputs": [],
   "source": [
    "#Below this comment, write some code which replaces the number 11 in array_2 with 100, then prints array_2. Then execute the cell.\n",
    "\n"
   ]
  },
  {
   "cell_type": "code",
   "execution_count": null,
   "id": "bb63d49a-c75c-4a1f-adfc-dd0153cff4ef",
   "metadata": {},
   "outputs": [],
   "source": [
    "#Below this comment, write some code which replaces the number 17 in array_2 with 200, then prints array_2. Then execute the cell.\n",
    "\n"
   ]
  },
  {
   "cell_type": "code",
   "execution_count": null,
   "id": "fdf29a7a-1198-4f8d-ac66-a0f427342a38",
   "metadata": {},
   "outputs": [],
   "source": [
    "#Below this comment, write some code which replaces the number 23 in array_2 with -5, then prints array_2. Then execute the cell.\n",
    "\n"
   ]
  },
  {
   "cell_type": "markdown",
   "id": "08d8e69d-4fc5-4f52-86d1-9bbcedb15b94",
   "metadata": {},
   "source": [
    "### 3.4: Combining arrays"
   ]
  },
  {
   "cell_type": "markdown",
   "id": "9be1d91c-65f5-4d36-a0cc-f9b90a2bedba",
   "metadata": {},
   "source": [
    "Another useful property of arrays is the ability to combine them together in different ways. To demonstrate this, first, take a look at two arrays we imported earlier, called `array_3` and `array_4`, using the `print()` function in the cells below:"
   ]
  },
  {
   "cell_type": "code",
   "execution_count": null,
   "id": "7c4d181a-f421-4497-a94b-54a39495df87",
   "metadata": {},
   "outputs": [],
   "source": [
    "#Below this comment, write some code to examine array_3 using the print() function. Then execute the cell.\n",
    "\n"
   ]
  },
  {
   "cell_type": "code",
   "execution_count": null,
   "id": "c3f18bf1-694d-4c10-8215-fc521afe8de6",
   "metadata": {},
   "outputs": [],
   "source": [
    "#Below this comment, write some code to examine array_4 using the print() function. Then execute the cell.\n",
    "\n"
   ]
  },
  {
   "cell_type": "markdown",
   "id": "7b90572d-602f-44e7-9037-2ac8eb8f32dd",
   "metadata": {},
   "source": [
    "Now try adding these arrays together using the `+` arithmetic operator. To do this, type the following code in the cell below and execute the cell:\n",
    "\n",
    "`print(array_3+array_4)`"
   ]
  },
  {
   "cell_type": "code",
   "execution_count": null,
   "id": "e8497f40-8f34-44cd-8d24-7b623093c4fd",
   "metadata": {},
   "outputs": [],
   "source": []
  },
  {
   "cell_type": "markdown",
   "id": "54383d03-db99-4923-9f42-2f082c5abdc9",
   "metadata": {},
   "source": [
    "As you can see, by running the code above, each element in `array_3` has been added to its corresponding element in `array_4`, so that the total of every cell becomes `15`. You can also subtract, divide, or multiply arrays together using the `-`, `/` and `*` arithmetic operators. Try this out in the three cells below and see what happens."
   ]
  },
  {
   "cell_type": "code",
   "execution_count": null,
   "id": "2b7b6958-4ec8-4159-9f7e-f8aa2082b221",
   "metadata": {},
   "outputs": [],
   "source": [
    "#Below this comment, write some code which prints the result of subtracting array 4 from array_3. Then execute the cell.\n",
    "\n"
   ]
  },
  {
   "cell_type": "code",
   "execution_count": null,
   "id": "828e2eb2-93af-48bc-8043-b391d85c5c76",
   "metadata": {},
   "outputs": [],
   "source": [
    "#Below this comment, write some code which prints the result of dividing array 3 by array_4. Then execute the cell.\n",
    "\n"
   ]
  },
  {
   "cell_type": "code",
   "execution_count": null,
   "id": "1a5650a5-631c-4637-a053-752615138d1c",
   "metadata": {},
   "outputs": [],
   "source": [
    "#Below this comment, write some code which prints the result of multiplying array 3 by array_4. Then execute the cell.\n",
    "\n"
   ]
  },
  {
   "cell_type": "markdown",
   "id": "27d26671-b484-429f-bc6a-c17c310aae5c",
   "metadata": {},
   "source": [
    "Now take another look at the one-dimensional `array_1` in the cell below:"
   ]
  },
  {
   "cell_type": "code",
   "execution_count": null,
   "id": "17029800-00ab-455e-bc85-cc702e33b9f6",
   "metadata": {},
   "outputs": [],
   "source": [
    "print(array_1)"
   ]
  },
  {
   "cell_type": "markdown",
   "id": "187d517a-d6e9-404d-bf90-2a4310c0cd1d",
   "metadata": {},
   "source": [
    "Now in the cell below, try adding `array_3` and `array_1`, just as you added `array_3` to `array_4` earlier in the Section:"
   ]
  },
  {
   "cell_type": "code",
   "execution_count": null,
   "id": "f4a08c7b-2b08-4f2b-9d8c-7765c2aa7aba",
   "metadata": {},
   "outputs": [],
   "source": [
    "#Below this comment, write some code which prints the result of adding array 3 and array_1 together. Then execute the cell.\n",
    "\n"
   ]
  },
  {
   "cell_type": "markdown",
   "id": "684b0952-6e04-451b-9fdb-420878d326cd",
   "metadata": {},
   "source": [
    "Note the `error` that occurs when you try to sum `array_3` and `array_1`. This is because the arrays are different shapes. Arrays must be of the same shape to be combined in this way."
   ]
  },
  {
   "cell_type": "markdown",
   "id": "6d5f38dc-462f-4d55-9720-07437cae63da",
   "metadata": {},
   "source": [
    "## Section 4: Visualising arrays"
   ]
  },
  {
   "cell_type": "markdown",
   "id": "fb88942f-7447-47ba-80a1-46dfb844480d",
   "metadata": {},
   "source": [
    "Depending on the type of data an array holds, looking at a simple grid of numbers may not be the optimal way to study your data. Take, for example, another array which we imported earlier, called `array_5`. Let's print `array_5` in the cell below and see what we get:"
   ]
  },
  {
   "cell_type": "code",
   "execution_count": null,
   "id": "44485f60-0ad5-402f-95d0-38077d826ac5",
   "metadata": {},
   "outputs": [],
   "source": [
    "print(array_5)"
   ]
  },
  {
   "cell_type": "markdown",
   "id": "02e9bdf2-be27-4da1-b96a-69653b83df37",
   "metadata": {},
   "source": [
    "### 4.1: The imshow function"
   ]
  },
  {
   "cell_type": "markdown",
   "id": "fcc4ff70-c22d-4a1e-aac7-16453ded10b9",
   "metadata": {},
   "source": [
    "As you can see, `array_5` is an eleven-by-eleven array containing only zeros and ones. Can you see anything else significant about this array? If not, let's try displaying the array in a different way using a new function: `plt.imshow()`. First, type the following code into the cell below and execute it to see what `plt.imshow()` does:\n",
    "\n",
    "`plt.imshow?`"
   ]
  },
  {
   "cell_type": "code",
   "execution_count": null,
   "id": "a3274776-9476-4c5e-87b3-43ff82bb199f",
   "metadata": {
    "scrolled": true
   },
   "outputs": [],
   "source": []
  },
  {
   "cell_type": "markdown",
   "id": "5d11d7ce-905c-4638-9066-dd6287345ae9",
   "metadata": {},
   "source": [
    "Now type the following two lines of code into the cell below and execute the cell to display `array_5` using `plt.imshow()`:\n",
    "\n",
    "`plt.imshow(array_5)`\n",
    "\n",
    "`plt.show()`"
   ]
  },
  {
   "cell_type": "code",
   "execution_count": null,
   "id": "01f6cdf8-ed4a-456b-869b-3ee6274965dc",
   "metadata": {},
   "outputs": [],
   "source": []
  },
  {
   "cell_type": "markdown",
   "id": "332e1fcc-a9e7-4e38-96d3-870aca0bd1e4",
   "metadata": {},
   "source": [
    "You should be able to see that when displayed in this way, `array_5` contaisn a rather crudely drawn smiley face. Arrays can also be used to hold images!"
   ]
  },
  {
   "cell_type": "markdown",
   "id": "1ceb726a-c6dc-4edf-9066-061345a1f7e9",
   "metadata": {},
   "source": [
    "### 4.2: Arrays and images"
   ]
  },
  {
   "cell_type": "markdown",
   "id": "bf0d6607-724b-456b-be47-1e8e1acf1a11",
   "metadata": {},
   "source": [
    "Astronomical images can also be stored as arrays. Take a look at `array_6` using the `plt.imshow()` function in the cell below using the `plt.imshow()` function, just as you looked at `array_5` earlier:"
   ]
  },
  {
   "cell_type": "code",
   "execution_count": null,
   "id": "8d761c52-c200-4c5d-9c0c-8ea976ad0345",
   "metadata": {},
   "outputs": [],
   "source": [
    "#Below this comment, write some code which displays array_6 using the plt.imshow() function. Then execute the cell.\n",
    "\n"
   ]
  },
  {
   "cell_type": "markdown",
   "id": "6fdad24d-81d3-4174-a50e-a2cebb1271dd",
   "metadata": {},
   "source": [
    "Can you tell what this image depicts? If you're not yet sure, `array_7` may help you work it out. Take a look at `array_7` in the cell below using the `plt.imshow()` function, just as you looked at `array_6`:"
   ]
  },
  {
   "cell_type": "code",
   "execution_count": null,
   "id": "4f4b2862-c42c-43ee-b149-8ec66c2b9466",
   "metadata": {},
   "outputs": [],
   "source": [
    "#Below this comment, write some code which displays array_7 using the plt.imshow() function. Then execute the cell.\n",
    "\n"
   ]
  },
  {
   "cell_type": "markdown",
   "id": "9b25472e-a0d2-4d8c-adf7-5255114803cd",
   "metadata": {},
   "source": [
    "Both `array_6` and `array_7` contained parts of a single image. You may recognise it already. But finally, to see the full image, sum `array_6` and `array_7` together with the `+` arithmetic operator, just as you summed `array_3` and `array_4` in Section 3. Instead of enclosing this sum of arrays in the print() function, enclose it with the `plt.imshow()` function instead to view the resulting whole image in the cell below:"
   ]
  },
  {
   "cell_type": "code",
   "execution_count": null,
   "id": "4795d4fa-f247-4366-9d9e-379899fd0f8d",
   "metadata": {},
   "outputs": [],
   "source": [
    "#Below this comment, write some code which displays the sum of array_6 and array_7 using the plt.imshow() function. Then execute the cell.\n",
    "\n"
   ]
  },
  {
   "cell_type": "markdown",
   "id": "f1c4e94f-a5d7-4749-af8c-66d263496dc9",
   "metadata": {},
   "source": [
    "If done correctly, you will see the famous 'Earthrise' image of the Earth, taken by NASA astronaut Bill Anders in 1968 whilst orbiting the moon. (Image credit: NASA) https://commons.wikimedia.org/wiki/File:NASA-Apollo8-Dec24-Earthrise.jpg "
   ]
  },
  {
   "cell_type": "markdown",
   "id": "dd6f0423-b550-40f9-a747-0d6f9928fce2",
   "metadata": {},
   "source": [
    "### 4.3: A simple image edit"
   ]
  },
  {
   "cell_type": "markdown",
   "id": "f71fa0e7-f718-43ce-854d-7d39d14455e0",
   "metadata": {},
   "source": [
    "Before we go any further, let's save the sum of `array_6` and `array_7` to a new variable, called `my_array_2`. You can do this by typing the following code into the cell below and executing the cell:\n",
    "\n",
    "`my_array_2 = array_6+array_7`"
   ]
  },
  {
   "cell_type": "code",
   "execution_count": null,
   "id": "23edc534-e453-4dc6-a84f-ef0d19bbcb99",
   "metadata": {},
   "outputs": [],
   "source": []
  },
  {
   "cell_type": "markdown",
   "id": "70ca9546-332d-4110-a9b0-472eea968f38",
   "metadata": {},
   "source": [
    "Now look back to the beginning of Section 3, where you printed the shape of the two-dimensional `array_2`. In the cell below, print out the shape of `my_array_2` in the same way:"
   ]
  },
  {
   "cell_type": "code",
   "execution_count": null,
   "id": "2603fb2b-4aed-4ef5-8dc6-bb6f6df8950d",
   "metadata": {},
   "outputs": [],
   "source": [
    "#Below this comment, write some code to print the shape of my_array_2. Then execute the cell.\n",
    "\n"
   ]
  },
  {
   "cell_type": "markdown",
   "id": "fe54f540-3f65-4360-98fe-76e6a90f6883",
   "metadata": {},
   "source": [
    "Notice that while `array_2` was a two-dimensional array of five rows and five columns and so had a shape of `(5, 5)`, your newly created `my_array_2` has three indices and a shape of `(2400, 2400, 3)`. This is because `my_array_2` (and images in general) are not two-dimensional arrays. They are `three-dimensional arrays`.\n",
    "\n",
    "A three-dimensional array is a data cube. In the case of `my_array_2`, the data cube consists of three sets of `2400` rows and `2400` columns. But why is this?\n",
    "\n",
    "It is all down to *colour*. The Earthrise image stored in `my_array_2` consists of `2400x2400` pixels -- one pixel for each row-column combination. But each pixel also has a colour, which is defined using the `RGB colour scheme`. Colours are defined in this scheme using three numbers, one for each of the amount of red, green, and blue which are added together to create the overall colour of the pixel. Therefore each of our `2400x2400` pixels has a red, green, and blue value and thus we need a `2400x2400x3` data cube.\n",
    "\n",
    "Now take another look at `my_array_2`:"
   ]
  },
  {
   "cell_type": "code",
   "execution_count": null,
   "id": "0cd65e79-0547-47c2-948b-aca969254f5f",
   "metadata": {},
   "outputs": [],
   "source": [
    "plt.imshow(my_array_2)\n",
    "plt.show()"
   ]
  },
  {
   "cell_type": "markdown",
   "id": "4d3a34ad-bde4-470c-8f0d-1e16d2d3b13b",
   "metadata": {},
   "source": [
    "Let's use what we have learned to edit the image. In the RGB colour scheme, the red, green, and blue values of a pixel range from `0` to `255`. When each of the red, green and blue values are all `0`, the colour of the pixel will be black. Conversely, when the red, green and blue values are all `255`, the colour of the pixel will be white.\n",
    "\n",
    "There are a lot of black pixels in this image. Let's try making all of them white.\n",
    "\n",
    "To do this, you must first locate all of the black pixels. You can do this using the `np.where()` function you first used in Section 3.2. In that example, you used the `np.where()` function to identify where the number `20` lay in `array_2` with the code below:\n",
    "\n",
    "`np.where(array_2==20)`\n",
    "\n",
    "Now we need to use the function to identify every pixel where the red, green, and blue values all equal zero. You can access the red, green and blue layers of the image using the index of the third dimension of `my_array_2`. For example, look the shape of the first layer of the image by typing the following code into the cell below and executing it:\n",
    "\n",
    "`print((my_array_2[:,:,0]).shape)`"
   ]
  },
  {
   "cell_type": "code",
   "execution_count": null,
   "id": "909db057-11f5-4eb0-8ab3-6c53ab084d7d",
   "metadata": {},
   "outputs": [],
   "source": []
  },
  {
   "cell_type": "markdown",
   "id": "4fffda4f-4fd3-49ba-8e16-e58389ed2811",
   "metadata": {},
   "source": [
    "As you can see, this layer is a two-dimensional array of `2400x2400` numbers, one for each pixel.\n",
    "\n",
    "Take a look at the values of this layer by using the `print()` function:"
   ]
  },
  {
   "cell_type": "code",
   "execution_count": null,
   "id": "4d7052eb-b61e-4858-8f69-2e2f0bfa2eb0",
   "metadata": {},
   "outputs": [],
   "source": [
    "print(my_array_2[:,:,0])"
   ]
  },
  {
   "cell_type": "markdown",
   "id": "9e3ab69f-8882-4399-b120-9d3d3730abc6",
   "metadata": {},
   "source": [
    "As you can see, each of the elements in this layer looks like it is an integer between `0` and `255`. Let's double-check this by using the `plt.hist()` function to plot a `histogram` of every value in the layer so we can see the entire range of values. To do this, execute the cell below:"
   ]
  },
  {
   "cell_type": "code",
   "execution_count": null,
   "id": "a8e85df8-91e8-4620-b602-00fc705f92fd",
   "metadata": {},
   "outputs": [],
   "source": [
    "plt.hist(my_array_2[:,:,0].flatten())\n",
    "plt.xlabel('Value of element')\n",
    "plt.ylabel('Number of elements with this value')\n",
    "plt.show()"
   ]
  },
  {
   "cell_type": "markdown",
   "id": "806d5e82-7fff-49da-ab7d-2f4986b77a5d",
   "metadata": {},
   "source": [
    "By the way, you've just learned another way to display the values of an array! And as expected, the values of the elements in this layer range from `0` to `255`. Also note that `0` is by far the most common value -- just as we'd expect for an image containing mostly black pixels.\n",
    "\n",
    "Just to remind you, we accessed the first layer of the image with:\n",
    "\n",
    "`my_array_2[:,:,0]`\n",
    "\n",
    "As Python is zero-indexed, you can likewise access the second and third layers of the image using:\n",
    "\n",
    "`my_array_2[:,:,1]`\n",
    "\n",
    "and\n",
    "\n",
    "`my_array_2[:,:,2]`\n",
    "\n",
    "respectively. Using the first layer as an example, have a go printing the shapes of the second and third layers of `my_array_2` in the two cells below."
   ]
  },
  {
   "cell_type": "code",
   "execution_count": null,
   "id": "d082c4cc-b09c-4aea-b5ad-be6282b135a6",
   "metadata": {},
   "outputs": [],
   "source": [
    "#Below this comment, write some code to print the shape of the second layer of my_array_2. Then execute the cell.\n",
    "\n"
   ]
  },
  {
   "cell_type": "code",
   "execution_count": null,
   "id": "4d59db46-9c4c-4c3b-b205-14d0c8181d7a",
   "metadata": {},
   "outputs": [],
   "source": [
    "#Below this comment, write some code to print the shape of the third layer of my_array_2. Then execute the cell.\n",
    "\n"
   ]
  },
  {
   "cell_type": "markdown",
   "id": "b66642da-c727-4edd-9c28-9240aa3835b5",
   "metadata": {},
   "source": [
    "Now we must use the `np.where()` function to find every black pixel in the Earthrise image -- i.e., every pixel with a red, blue, and green value of `0`.\n",
    "\n",
    "To find every pixel where the first layer is zero, you could simply do:\n",
    "\n",
    "`np.where(my_array_2[:,:,0]==0)`\n",
    "\n",
    "But we need to identify every pixel where *every* layer is zero. To do this we will make use of the `&` operator. Go ahead and type the following code into the cell below, then execute the cell:\n",
    "\n",
    "`rgb = np.where((my_array_2[:,:,0]==0) & (my_array_2[:,:,1]==0) & (my_array_2[:,:,2]==0))`"
   ]
  },
  {
   "cell_type": "code",
   "execution_count": null,
   "id": "12ed7431-5d37-4e40-91db-f53010d00276",
   "metadata": {},
   "outputs": [],
   "source": []
  },
  {
   "cell_type": "markdown",
   "id": "d90b78b0-1402-4791-9372-a700c7e15af2",
   "metadata": {},
   "source": [
    "What you have just done is create a `variable` called `rgb` which contains the parts of `my_array_2` where every layer is zero. You can use this variable to access only these parts of `my_array_2` by using `rgb` in place of indices. For example, to print the values, run the cell below:"
   ]
  },
  {
   "cell_type": "code",
   "execution_count": null,
   "id": "c7578733-68b7-4964-9689-5ee82359bfbd",
   "metadata": {},
   "outputs": [],
   "source": [
    "print(my_array_2[rgb])"
   ]
  },
  {
   "cell_type": "markdown",
   "id": "6f029112-3810-4b6d-925c-1dbdc1b7f4e8",
   "metadata": {},
   "source": [
    "And to double-check that each of these values is zero, you can simply sum them all up and the total should be zero. To do this, you can use the `np.sum()` function:"
   ]
  },
  {
   "cell_type": "code",
   "execution_count": null,
   "id": "207cacf5-3303-4fda-aec0-426b2f10bfe2",
   "metadata": {},
   "outputs": [],
   "source": [
    "print(np.sum(my_array_2[rgb]))"
   ]
  },
  {
   "cell_type": "markdown",
   "id": "f85d57b7-8c8e-45e8-af49-aa2b5d0b37d9",
   "metadata": {},
   "source": [
    "Now all that's left to do is convert those black pixels to white pixels. Remember that black pixels occur where the red, blue, and green values of a pixel are all `0`, and white pixels occur where the red, blue, and green values of the pixel are all `255`. So you can simply edit `my_array_2` and replace `0` with `255` for these pixels. To do this, type the following code into the cell below and then execute the cell:\n",
    "\n",
    "`my_array_2[rgb]=255`"
   ]
  },
  {
   "cell_type": "code",
   "execution_count": null,
   "id": "cb9e6d71-f87b-414c-b1cd-7846619c5e81",
   "metadata": {},
   "outputs": [],
   "source": []
  },
  {
   "cell_type": "markdown",
   "id": "99a008df-de49-41ce-a08f-13196aa8c89c",
   "metadata": {},
   "source": [
    "Now look at `my_array_2` again using the `plt.imshow()` function, and see how it has changed."
   ]
  },
  {
   "cell_type": "code",
   "execution_count": null,
   "id": "f25c27f5-09d7-48c2-96ab-2bc110cd3c81",
   "metadata": {},
   "outputs": [],
   "source": [
    "plt.imshow(my_array_2)\n",
    "plt.show()"
   ]
  },
  {
   "cell_type": "markdown",
   "id": "4a1cc4b1-59de-4249-bb99-a7781eb06723",
   "metadata": {},
   "source": [
    "## Section 5: Radio astronomy"
   ]
  },
  {
   "cell_type": "markdown",
   "id": "5654beda-08c3-44b0-af43-d4eb45122f10",
   "metadata": {},
   "source": [
    "In Sections 1 to 4, you've learned about arrays, and how to manipulate them. You'va also learned how to display their values in various ways, including using the `print()`, `plt.imshow()` and `plt.hist()` functions. So now we've learned everything we need to in order to do some real radio astronomy. To do this, we'll use another array which we imported earlier, called `array_8`. First, look at the shape of `array_8` in the cell below:"
   ]
  },
  {
   "cell_type": "code",
   "execution_count": null,
   "id": "4246572f-17f2-4266-9b00-fb0a4b66316d",
   "metadata": {},
   "outputs": [],
   "source": [
    "# Below this comment, write some code to print the shape of array_8. Then execute the cell.\n",
    "\n"
   ]
  },
  {
   "cell_type": "markdown",
   "id": "44a2235b-a764-4099-bdb0-ce58fd23dde4",
   "metadata": {},
   "source": [
    "As you can see, `array_8` is a two-dimensional array consisting of `2500` rows and `512` columns. More specifically, `array_8` is a simulated `dynamic spectrum`.\n",
    "\n",
    "Dynamic spectra are standard data products generated in `time-domain radio astronomy`. They are two-dimensional arrays of data which show how `radio waves` which we observe using `radio telescopes` fluctuate in intensity as a function of `observing frequency` and `time`. \n",
    "\n",
    "This simulated dynamic spectra consists of `2500` time samples and `512` frequency channels. It contains a `radio pulse`. Radio pulses are astronomical phenomena emitted by both `pulsars` and `Fast Radio Bursts (FRBs)`.\n",
    "\n",
    "*Note*: Did you know that the first pulsar was discovered by Dame Jocelyn Bell Burnell while she was doing her Ph.D. at the University of Cambridge? You can read the paper describing this discovery using the NASA ADS archive (see link 1). You can also go to the New Cavendish Museum in the Ray Dolby Centre on West Campus, where there is an interactive exhibit about the discovery (see links 2 and 3). You can read the paper describing the discovery of the first FRB on the NASA ADS archive too (see link 4).\n",
    "\n",
    "- Link 1: https://ui.adsabs.harvard.edu/abs/1969Natur.224..472H/abstract\n",
    "- Link 2: https://www.em.admin.cam.ac.uk/what-we-do/development-estate/building-projects/ray-dolby-centre-cavendish\n",
    "- Link 3: https://cavmag.phy.cam.ac.uk/cavmag-33/building-the-new-cavendish-museum/index.html\n",
    "- Link 4: https://ui.adsabs.harvard.edu/abs/2007Sci...318..777L/abstract"
   ]
  },
  {
   "cell_type": "markdown",
   "id": "f234bfbf-02bd-4881-add2-be6eba9042c7",
   "metadata": {},
   "source": [
    "### 5.1: A contaminated dataset"
   ]
  },
  {
   "cell_type": "markdown",
   "id": "f969fafe-242b-4a4b-9cc2-631c7e111e30",
   "metadata": {},
   "source": [
    "Let's take a look at our dynamic spectrum containing a radio pulse using the `plt.imshow()` function. However, instead of simply running:\n",
    "\n",
    "`plt.imshow(array_8)`\n",
    "\n",
    "`plt.show()`\n",
    "\n",
    "in the next cell, we are going to create a `figure`. Figures are useful because they can be easily manipulated in many ways and then saved. The next cell contains six lines of code. In order, these lines:\n",
    "\n",
    "1) Create a figure\n",
    "2) Add a subplot to the figure\n",
    "3) Add an x-axis to the figure\n",
    "4) Add a y-axis to the figure\n",
    "5) Plot `array_8` within the subplot using `imshow()`\n",
    "6) Display the figure\n",
    "\n",
    "Execute the cell below to see the resulting figure."
   ]
  },
  {
   "cell_type": "code",
   "execution_count": null,
   "id": "93dccd02-dce0-470b-9e3b-30fc8536b220",
   "metadata": {},
   "outputs": [],
   "source": [
    "# create the figure\n",
    "fig = plt.figure(figsize=(8,6))\n",
    "\n",
    "# add a subplot to the figure\n",
    "ax = fig.add_subplot(111)\n",
    "\n",
    "# add an x-axis to the figure\n",
    "ax.set_xlabel('Time')\n",
    "\n",
    "# add a y-axis to the figure\n",
    "ax.set_ylabel('Frequency channel')\n",
    "\n",
    "#plot array_8 (our dynamic spectrum) in the subplot\n",
    "ax.imshow(array_8.T,aspect='auto',origin='lower')\n",
    "\n",
    "#display the figure\n",
    "plt.show()"
   ]
  },
  {
   "cell_type": "markdown",
   "id": "8f9122e4-c50d-4e9d-b3e6-cb63d471d8e6",
   "metadata": {},
   "source": [
    "The data doesn't look very impressive. It looks like a solid block of colour, with a few horizontal and vertical lines criss-crossing it. You might be able to see a very faint curved line as well, but this isn't easy to spot yet. This is because the dataset has been contaminated with `Radio Frequency Interference (RFI)`.\n",
    "\n",
    "RFI is radio emission which interferes with our radio astronomy observations. It comes from many types of modern technology which emit at radio frequencies, from mobile phones, to satellites in space. RFI can contaminate, obscure, or even mimic real astronomical signals. For an amusing example of RFI, check out this paper where astronomers discovered that their lunch-room microwave ovens were causing trouble: https://ui.adsabs.harvard.edu/abs/2015MNRAS.451.3933P/abstract \n",
    "\n",
    "Radio astronomy relies on the assumption that the many radio-emitting sources in the sky create a background of `Gaussian Random Noise`. This means that when you histogram the data of a radio telescope observation, it should follow a `Gaussian distribution`, also known as a `Normal distribution`: https://en.wikipedia.org/wiki/Normal_distribution\n",
    "\n",
    "You already saw how to create a histogram from data in an array using `.flatten()` and the `plt.hist()` function in Section 4.3 when you flattened the first layer of the Earthrise image using:\n",
    "\n",
    "`plt.hist(my_array_2[:,:,0].flatten())`\n",
    "\n",
    "`plt.show()`\n",
    "\n",
    "Now in the cell below, use a combination of the `plt.hist()` function and `.flatten()` to display the histogram of `array_8` by typing:\n",
    "\n",
    "`plt.hist(array_8.flatten(),bins=50)`\n",
    "\n",
    "`plt.show()`\n",
    "\n",
    "Then execute the cell."
   ]
  },
  {
   "cell_type": "code",
   "execution_count": null,
   "id": "6f191e43-227e-42fd-bd20-73a10e3d8c5d",
   "metadata": {},
   "outputs": [],
   "source": [
    "plt.hist(array_8.flatten(),bins=50)\n",
    "plt.show()"
   ]
  },
  {
   "cell_type": "markdown",
   "id": "588873ee-2d8d-4d84-aafb-2536a06d8b08",
   "metadata": {},
   "source": [
    "You should be able to see that the distribution of this data is *not* simply a Gaussian. The majority of the data has values between `-5` and `+5` and does lie in a Gaussian-like distribution with a mean of zero, but there are also outlier elements in our array with much higher values `>15`. These higher values correspond to the bright RFI which is saturating our dynamic spectrum and preventing us from being able to see our radio pulse. So what do we do? We must remove this RFI. To do this, we will take advantage of two concepts: the `Bandpass` and the `Timeseries` of the observation."
   ]
  },
  {
   "cell_type": "markdown",
   "id": "beb2cff4-50c4-4e5d-a068-7429e7971753",
   "metadata": {},
   "source": [
    "### 5.2: The bandpass"
   ]
  },
  {
   "cell_type": "markdown",
   "id": "c39165c7-1aa4-47bf-a761-b4fb40ac986d",
   "metadata": {},
   "source": [
    "Take a look at your contaminated dynamic spectrum again:"
   ]
  },
  {
   "cell_type": "code",
   "execution_count": null,
   "id": "424ef18c-8f0d-4712-8b1d-704a544effdb",
   "metadata": {},
   "outputs": [],
   "source": [
    "fig = plt.figure(figsize=(8,6)) # create the figure\n",
    "ax = fig.add_subplot(111) # add a subplot to the figure\n",
    "ax.set_xlabel('Time') # add an x-axis to the figure\n",
    "ax.set_ylabel('Frequency channel') # add a y-axis to the figure\n",
    "ax.imshow(array_8.T,aspect='auto',origin='lower') #plot array_8 (our dynamic spectrum) in the subplot\n",
    "plt.show() #display the figure"
   ]
  },
  {
   "cell_type": "markdown",
   "id": "7080cd8f-0fa2-48d6-a566-5dd82ded2f63",
   "metadata": {},
   "source": [
    "In this dynamic spectrum you can see two different types of RFI. There are `horizontal bars` of RFI corresponding to `contaminated frequency channels`, and `vertical stripes` of RFI, corresponding to `oversaturated timesamples`.\n",
    "\n",
    "There are two sets of contaminated frequency channels. They are constrained to two narrow bands of the frequency axis, but they persist for the entire duration of the observation.\n",
    "\n",
    "To remove these contaminated frequency channels, we will make use of the `Bandpass`.\n",
    "\n",
    "The bandpass describes the average behaviour of each observing frequency channel over the whole observation. You create it by `averaging` over the `first axis`, i.e. the `time axis` of the dynamic spectrum. Effectively, you are taking the `average value of each row` of the dynamic spectrum.\n",
    "\n",
    "You can take the average of an array using the `np.mean()` function. For example, to look at the bandpass for our dynamic spectrum, i.e. the average of `array_8` over its time axis, type the following into the cell below and execute the cell:\n",
    "\n",
    "`print(np.mean(array_8,axis=0))`"
   ]
  },
  {
   "cell_type": "code",
   "execution_count": null,
   "id": "dd9a2f4e-9e9e-4d3d-ac8c-2bef38cc1800",
   "metadata": {
    "scrolled": true
   },
   "outputs": [],
   "source": []
  },
  {
   "cell_type": "markdown",
   "id": "d3a5e5f9-2709-4b00-90c9-f131c5809a8d",
   "metadata": {},
   "source": [
    "To study the shape of this bandpass, type the following into the cell below and execute the cell:\n",
    "\n",
    "`print(np.mean(array_8,axis=0).shape)`"
   ]
  },
  {
   "cell_type": "code",
   "execution_count": null,
   "id": "a8247221-62ec-440a-8a23-61dee4ae52c4",
   "metadata": {},
   "outputs": [],
   "source": []
  },
  {
   "cell_type": "markdown",
   "id": "93528c18-06d6-4e6d-ae2b-cdfd8af8dabe",
   "metadata": {},
   "source": [
    "As you can see, the bandpass consists of a one-dimensional array of `512` numbers, one for each frequency channel. This is because you have averaged every timesample for each frequency channel together. Now, execute the code in the cell below to study this bandpass more closely:"
   ]
  },
  {
   "cell_type": "code",
   "execution_count": null,
   "id": "d3bd6116-06c7-49ea-835d-4b5ca1c86bcc",
   "metadata": {},
   "outputs": [],
   "source": [
    "fig = plt.figure(figsize=(8,6)) #create a figure\n",
    "ax = fig.add_subplot(111) #add a subplot to the figure\n",
    "ax.set_xlabel('Frequency channel') # add an x-axis to the figure\n",
    "ax.set_ylabel('Power') # add a y-axis to the figure\n",
    "\n",
    "ax.plot(array_8.mean(axis=0)) #plot the bandpass in the figure\n",
    "\n",
    "plt.show() #display the figure"
   ]
  },
  {
   "cell_type": "markdown",
   "id": "49dabfa2-a9ec-4ea0-8b81-c63d71f747fe",
   "metadata": {},
   "source": [
    "By displaying the data in this way, you can easily identify the outlier frequency channels -- these are the channels where the `power is much much larger than the rest`. We can use this to our advantage in order to `mask` out these contaminated frequency channels.\n",
    "\n",
    "In the cell below, store the bandpass to a variable called `bandpass` by typing the following and then executing the cell:\n",
    "\n",
    "`bandpass = array_8.mean(axis=0)`"
   ]
  },
  {
   "cell_type": "code",
   "execution_count": null,
   "id": "d9c05303-d5a6-473d-87ae-a3f1f3761b24",
   "metadata": {},
   "outputs": [],
   "source": []
  },
  {
   "cell_type": "markdown",
   "id": "c1b2755c-77e7-487f-865b-fef7ecb63bb3",
   "metadata": {},
   "source": [
    "Now use the `np.where()` function to identify every frequency channel which is greater than `2.5`. We have chosen this as a `threshold power above which we will assume that the channel is contaminated with RFI. We have chosen this value by eye -- in a more rigorous analysis, one would use the statistics of the data to define this threshold.\n",
    "\n",
    "In previous sections, we used the `np.where()` function to identify where an `array` was equal to a `value` using `==` as follows:\n",
    "\n",
    "`np.where(array==value)`\n",
    "\n",
    "In this case, use `>` in place of `==` to identify where `bandpass` is greater than our threshold value instead. Store the result to a new variable called `bad_channels`:"
   ]
  },
  {
   "cell_type": "code",
   "execution_count": null,
   "id": "c165793c-41e4-446f-8c0d-6a600f323526",
   "metadata": {},
   "outputs": [],
   "source": [
    "#Below this comment, write some code to identify where the bandpass is greater than 2.5, and store it to a variable called bad_channels.\n",
    "\n"
   ]
  },
  {
   "cell_type": "markdown",
   "id": "1b78e598-1d32-4975-8f82-6b5c543f1bd0",
   "metadata": {},
   "source": [
    "Now have a look at `bad_channels`:"
   ]
  },
  {
   "cell_type": "code",
   "execution_count": null,
   "id": "ae94f39d-29c6-47e9-9537-55af3cfe2078",
   "metadata": {},
   "outputs": [],
   "source": [
    "print(bad_channels)"
   ]
  },
  {
   "cell_type": "markdown",
   "id": "e512d363-cbe3-49d1-91a5-5ebfd841ed76",
   "metadata": {},
   "source": [
    "You can use this array of indexes, which correspond to our contaminated frequency channels, to mask out some of the RFI in our dynamic spectrum. Before we do this, let's copy `array_8` to a new array called `my_array_3` using the `np.copy()` function, so that we don't interfere with the original dataset:"
   ]
  },
  {
   "cell_type": "code",
   "execution_count": null,
   "id": "fa894cf5-2da6-48d8-85ce-cfd042c75398",
   "metadata": {},
   "outputs": [],
   "source": [
    "my_array_3 = np.copy(array_8)"
   ]
  },
  {
   "cell_type": "markdown",
   "id": "fe8bf391-f029-414b-ac4d-fa646afc0294",
   "metadata": {},
   "source": [
    "Now let's mask the bad frequency channels in `my_array_3`. To do this, you can simply edit the array using `bad_channels` to specify your frequency indices. Remember that the `first axis` of the dynamic spectrum corresponds to our `timesamples`, and the `second axis` corresponds to our `frequency channels`. So by typing\n",
    "\n",
    "`my_array_3[:,bad_channels]=np.nan`\n",
    "\n",
    "in the cell below, we will replace all data for each of our bad frequency channels in `array_3` with a 'Not a Number' value which will act as a mask:"
   ]
  },
  {
   "cell_type": "code",
   "execution_count": null,
   "id": "7e30389a-a4b1-4885-9b2a-01479aa58b90",
   "metadata": {},
   "outputs": [],
   "source": []
  },
  {
   "cell_type": "markdown",
   "id": "0e63bc98-30bc-428d-a4f6-a5201abdad40",
   "metadata": {},
   "source": [
    "Now execute the cell below to display `my_array_3`."
   ]
  },
  {
   "cell_type": "code",
   "execution_count": null,
   "id": "2300b4f9-7915-4c47-af48-f6c8a9c24b2e",
   "metadata": {},
   "outputs": [],
   "source": [
    "fig = plt.figure(figsize=(8,6)) # create the figure\n",
    "ax = fig.add_subplot(111) # add a subplot to the figure\n",
    "ax.set_xlabel('Time') # add an x-axis to the figure\n",
    "ax.set_ylabel('Frequency channel') # add a y-axis to the figure\n",
    "ax.imshow(my_array_3.T,aspect='auto',origin='lower') #plot my_array_3 (our edited dynamic spectrum) in the subplot\n",
    "plt.show() #display the figure"
   ]
  },
  {
   "cell_type": "markdown",
   "id": "ba369e68-743e-4326-bb7f-f5953816dc2f",
   "metadata": {},
   "source": [
    "As you can see, we have now successfully removed the contaminated frequency channels from `my_array_3` using the bandpass. These removed channels now appear as white horizontal stripes."
   ]
  },
  {
   "cell_type": "markdown",
   "id": "8b263b42-fe0b-410f-85ef-870c787a6a87",
   "metadata": {},
   "source": [
    "### 5.3: The timeseries"
   ]
  },
  {
   "cell_type": "markdown",
   "id": "26cab70e-dc38-40ed-9a35-e5600a3d1ea4",
   "metadata": {},
   "source": [
    "Now look again at your original dynamic spectrum, `array_8`:"
   ]
  },
  {
   "cell_type": "code",
   "execution_count": null,
   "id": "8dfdbc10-2abe-4498-9436-942b903c5112",
   "metadata": {},
   "outputs": [],
   "source": [
    "fig = plt.figure(figsize=(8,6)) # create the figure\n",
    "ax = fig.add_subplot(111) # add a subplot to the figure\n",
    "ax.set_xlabel('Time') # add an x-axis to the figure\n",
    "ax.set_ylabel('Frequency channel') # add a y-axis to the figure\n",
    "ax.imshow(array_8.T,aspect='auto',origin='lower') #plot array_8 (our dynamic spectrum) in the subplot\n",
    "plt.show() #display the figure"
   ]
  },
  {
   "cell_type": "markdown",
   "id": "f69a96a5-f3a3-4d23-8a06-619d62fc4847",
   "metadata": {},
   "source": [
    "Notice the vertical stripes of RFI corresponding to oversaturated timesamples. There are a few oversaturated timesamples in this dynamic spectrum. These correspond to certain short observing times when the entire observing band is oversaturated and unusable.\n",
    "\n",
    "To remove this type of RFI, we will utilise the observation's `Timeseries`.\n",
    "\n",
    "While the bandpass describes the average behaviour of each observing frequency channel over the whole observation, the timeseries describes the average behaviour of the entire frequency band as a function of time. You created the bandpass by averaging over the rows (i.e. the first axis, i.e. the time axis) of the dynamic spectrum. Conversely, you can create the timeseries by averaging over the columns (i.e. the second axis, i.e. the frequency axis) of the dynamic spectrum.\n",
    "\n",
    "Just as when you created the bandpass, you can use the `np.mean()` function to create the timeseries. You printed the bandpass earlier using the code:\n",
    "\n",
    "`print(np.mean(array_8,axis=0))`\n",
    "\n",
    "Now try printing the timeseries in the cell below. Remember that you must average over the second axis rather than the first, and that Python is zero-indexed."
   ]
  },
  {
   "cell_type": "code",
   "execution_count": null,
   "id": "afad7bd8-f3a1-4b9c-bcea-f69a50eac451",
   "metadata": {},
   "outputs": [],
   "source": [
    "#Below this comment, write some code to print the timeseries of array_8 using print(), and the np.mean() function. Then execute the cell.\n",
    "\n"
   ]
  },
  {
   "cell_type": "markdown",
   "id": "c233ebd8-b8be-4735-99ef-303a454422a9",
   "metadata": {},
   "source": [
    "And in the cell below, print the shape of the timeseries. Remember that there were `2500` timesamples in the dynamic spectrum, so the size of this array should also be `2500`."
   ]
  },
  {
   "cell_type": "code",
   "execution_count": null,
   "id": "ec6699d6-edda-48f1-928a-02a9c294aa72",
   "metadata": {},
   "outputs": [],
   "source": [
    "#Below this comment, write some code to print the shape of the timeseries of array_8. Then execute the cell.\n",
    "\n"
   ]
  },
  {
   "cell_type": "markdown",
   "id": "09627a27-bdc0-4a4f-b130-d4cbecb6b493",
   "metadata": {},
   "source": [
    "Above, you saved the bandpass to a new variable using the code:\n",
    "\n",
    "`bandpass = array_8.mean(axis=0)`\n",
    "\n",
    "In the cell below, save the timeseries to another new variable called `timeseries` in the same way."
   ]
  },
  {
   "cell_type": "code",
   "execution_count": null,
   "id": "39e77d0c-63d4-4da5-9a38-9fec947b3ba4",
   "metadata": {},
   "outputs": [],
   "source": [
    "#Below this comment, write some code to save the timeseries of array_8 to a variable called timeseries. Then execute the cell.\n",
    "\n"
   ]
  },
  {
   "cell_type": "markdown",
   "id": "090b7444-6ef1-4b70-9829-16d984ef4072",
   "metadata": {},
   "source": [
    "Now run the cell below to visualise the timeseries:"
   ]
  },
  {
   "cell_type": "code",
   "execution_count": null,
   "id": "79b24536-91a9-435e-8230-c6d5f54c1129",
   "metadata": {},
   "outputs": [],
   "source": [
    "fig = plt.figure(figsize=(8,6)) #create a figure\n",
    "ax = fig.add_subplot(111) #add a subplot to the figure\n",
    "ax.set_xlabel('Timesample') # add an x-axis to the figure\n",
    "ax.set_ylabel('Power') # add a y-axis to the figure\n",
    "\n",
    "ax.plot(timeseries) #plot the timeseries in the figure\n",
    "\n",
    "plt.show() #display the figure"
   ]
  },
  {
   "cell_type": "markdown",
   "id": "bf6b46d8-384b-474d-9cfc-2518dd0953dd",
   "metadata": {},
   "source": [
    "In the plot above, you can clearly see that there are three sets of timesamples where the power is much much larger than the rest. In the cell below, following the example above where you identified contaminated frequency channels in the bandpass, use the `np.where()` function and `>` to identify where `timeseries` lies above a `threshold value` of your choosing. Set this threshold so that only the contaminated timesamples are selected. Save the result to a variable called `bad_timesamples`.\n",
    "\n",
    "*Note*: Just as with the bandpass, a more rigorous scientific analysis would use the statistics of the timeseries to define this threshold."
   ]
  },
  {
   "cell_type": "code",
   "execution_count": null,
   "id": "e02238fa-67c9-4fab-ad94-6659e1a76d85",
   "metadata": {},
   "outputs": [],
   "source": [
    "#Below this comment, write code to identify where the timeseries is greater than a threshold, and store it to a variable called bad_timesamples.\n",
    "\n"
   ]
  },
  {
   "cell_type": "markdown",
   "id": "dd12f654-3832-4027-ba1a-1b754af290bc",
   "metadata": {},
   "source": [
    "Have a look at the indices of the timesamples you have identified by executing the cell below:"
   ]
  },
  {
   "cell_type": "code",
   "execution_count": null,
   "id": "283d3205-ef15-4fc3-b383-2853a53875cc",
   "metadata": {},
   "outputs": [],
   "source": [
    "print(bad_timesamples)"
   ]
  },
  {
   "cell_type": "markdown",
   "id": "8b85ae2d-d31c-4b4d-9b01-653963f370f0",
   "metadata": {},
   "source": [
    "Finally, it is time to replace the contaminated timesamples in `my_array_3` with `np.nan` values, just as you replaced the contaminated frequency channels using `bad_channels` earlier. This was done using: \n",
    "\n",
    "`my_array_3[:,bad_channels]=np.nan`\n",
    "\n",
    "Use this code as an example to help you replace the bad timesample data in the cell below. Remember that while frequency channels were dictated by the `second axis`, timesamples are dictated by the `first axis`."
   ]
  },
  {
   "cell_type": "code",
   "execution_count": null,
   "id": "ecd2281e-a70e-4f78-95e9-beb85140ab29",
   "metadata": {},
   "outputs": [],
   "source": [
    "#Below this comment, write code to replace bad timesamples in my_array_3 with np.nan values. Then execute the cell.\n",
    "\n"
   ]
  },
  {
   "cell_type": "markdown",
   "id": "785f4a37-d4cf-460d-843c-12068a7c3302",
   "metadata": {},
   "source": [
    "Now execute the cell below to display `my_array_3` again:"
   ]
  },
  {
   "cell_type": "code",
   "execution_count": null,
   "id": "04183680-97f0-4adf-97b1-6ff1cf45c2ed",
   "metadata": {},
   "outputs": [],
   "source": [
    "fig = plt.figure(figsize=(8,6)) # create the figure\n",
    "ax = fig.add_subplot(111) # add a subplot to the figure\n",
    "ax.set_xlabel('Time') # add an x-axis to the figure\n",
    "ax.set_ylabel('Frequency channel') # add a y-axis to the figure\n",
    "ax.imshow(my_array_3.T,aspect='auto',origin='lower') #plot my_array_3 (our edited dynamic spectrum) in the subplot\n",
    "plt.show() #display the figure"
   ]
  },
  {
   "cell_type": "markdown",
   "id": "820fa669-0c0a-4320-8aef-f93239630130",
   "metadata": {},
   "source": [
    "Congratulations! You have now performed RFI mitigation on your data and should be able to clearly see a `radio pulse`. This pulse is `dispersed`: the higher-frequency radiation arrives at the observer before the lower-frequency radiation, which is why it appears to have this curved shape.\n",
    "\n",
    "The dispersion of radio pulses is an important observable. It allows us to estimate the distance to the sources of this emission -- it is how we know that FRBs are `extragalactic events`, for example.\n",
    "\n",
    "Now as a final check, remember that radio astronomy relies on the assumption that the many radio-emitting sources in the sky create a background of Gaussian Random Noise, but that RFI is non-Gaussian, which affects the histogram of the radio data. But we have now removed our RFI. So in the cell below, use a combination of the `plt.hist() function` and `.flatten()` to display the histogram of `my_array_3` using the code in Section 5.1 as an example:"
   ]
  },
  {
   "cell_type": "code",
   "execution_count": null,
   "id": "29e94674-547f-45da-86de-415d689a785e",
   "metadata": {},
   "outputs": [],
   "source": [
    "#Below this comment, write some code to display the histogram of your edited my_array_3. Then execute the cell.\n",
    "\n"
   ]
  },
  {
   "cell_type": "markdown",
   "id": "e6df43d8-e691-4d31-b832-d27b3b690946",
   "metadata": {},
   "source": [
    "Displaying the data in this way you can see that it now clearly follows a Gaussian distribution."
   ]
  },
  {
   "cell_type": "markdown",
   "id": "86bdc670-03b0-4a1c-978a-ccdb27305cb7",
   "metadata": {},
   "source": [
    "## Section 6: Conclusion"
   ]
  },
  {
   "cell_type": "markdown",
   "id": "1e401a45-0dfa-4dbd-a4a8-f1f30b5c358d",
   "metadata": {},
   "source": [
    "Thank you for taking part in this supervision, during which you have learned to use notebooks, and manipulate data in various types of Python arrays in order to process astronomical data. There are many other useful Python processes that are often used for analysing data, but these are for another time."
   ]
  }
 ],
 "metadata": {
  "kernelspec": {
   "display_name": "Python 3 (ipykernel)",
   "language": "python",
   "name": "python3"
  },
  "language_info": {
   "codemirror_mode": {
    "name": "ipython",
    "version": 3
   },
   "file_extension": ".py",
   "mimetype": "text/x-python",
   "name": "python",
   "nbconvert_exporter": "python",
   "pygments_lexer": "ipython3",
   "version": "3.8.20"
  }
 },
 "nbformat": 4,
 "nbformat_minor": 5
}
